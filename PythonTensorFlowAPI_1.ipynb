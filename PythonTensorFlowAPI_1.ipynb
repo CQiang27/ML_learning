{
 "cells": [
  {
   "cell_type": "markdown",
   "metadata": {},
   "source": [
    "# Tensor Transformations\n",
    "## 1.1 Casting\n",
    ">tf.string_to_number(string_tensor, out_type=None, name=None)\n",
    "\n",
    ">tf.to_double(x, name='ToDouble')\n",
    "\n",
    ">tf.to_float(x, name='ToFloat')\n",
    "\n",
    ">tf.to_bfloat16(x, name='ToBFloat16')\n",
    "\n",
    ">tf.to_int32(x, name='ToInt32')\n",
    "\n",
    ">tf.to_int64(x, name='ToInt64')\n",
    "\n",
    ">tf.cast(x, dtype, name=None)\n",
    "\n",
    "## 1.2 Shapes and Shaping\n",
    ">tf.shape(input, name=None)\n",
    "\n",
    ">tf.size(input, name=None)\n",
    "\n",
    ">tf.rank(input, name=None)\n",
    "\n",
    ">tf.reshape(tensor, shape, name=None)\n",
    "\n",
    ">tf.squeeze(input, squeeze_dims=None, name=None)\n",
    "\n",
    ">tf.expand_dims(input, dim, name=None)\n",
    "\n",
    "## 1.3 Slicing and Joining\n",
    ">tf.slice(input_, begin, size, name=None)\n",
    "\n",
    ">tf.split(split_dim, num_split, value, name='split')\n",
    "\n",
    ">tf.tile(input, multiples, name=None)\n",
    "\n",
    ">tf.pad(input, paddings, name=None)\n",
    "\n",
    ">tf.concat(concat_dim, values, name='concat')\n",
    "\n",
    ">tf.pack(values, name='pack')\n",
    "\n",
    ">tf.unpack(value, num=None, name='unpack')\n",
    "\n",
    ">tf.reverse_sequence(input, seq_lengths, seq_dim, name=None)\n",
    "\n",
    ">tf.reverse(tensor, dims, name=None)\n",
    "\n",
    ">tf.transpose(a, perm=None, name='transpose')\n",
    "\n",
    ">tf.gather(params, indices, name=None)\n",
    "\n",
    ">tf.dynamic_partition(data, partitions, num_partitions, name=None)\n",
    "\n",
    ">tf.dynamic_stitch(indices, data, name=None)\n",
    " "
   ]
  },
  {
   "cell_type": "markdown",
   "metadata": {},
   "source": [
    "## 1.1 Casting\n",
    "TensorFlow提供了几个可用于在图形中转换张量数据类型的操作：\n",
    "\n",
    "**tf.string_to_number(string_tensor, out_type=None, name=None)**\n",
    "\n",
    "将输入Tensor中的每个字符串转换为指定的数字类型。\n",
    "\n",
    "（注意，int32溢出会导致错误，而float overflow会导致舍入值。）\n",
    ">**Args:**\n",
    "- string_tensor: 字符串类型的张量\n",
    "- out_type: tf.DType类型可选：tf.float32，tf.int32；默认为tf.float32。 将string_tensor中的每个字符串转换为的数字类型。\n",
    "- name: 操作的名称（可选）。\n",
    "\n",
    ">**Returns:**\n",
    "- 返回out_type类型的数据。与输入string_tensor形状相同的张量。"
   ]
  },
  {
   "cell_type": "code",
   "execution_count": 5,
   "metadata": {},
   "outputs": [
    {
     "name": "stdout",
     "output_type": "stream",
     "text": [
      "3\n",
      "333\n",
      "b*c= 9.0\n"
     ]
    }
   ],
   "source": [
    "import tensorflow as tf\n",
    "a = input()\n",
    "b = 3\n",
    "c = tf.string_to_number(a)\n",
    "print(a*b)\n",
    "with tf.Session() as sess:\n",
    "    init_op = tf.global_variables_initializer()\n",
    "    sess.run(init_op)\n",
    "    print(\"b*c=\",sess.run(c*b))"
   ]
  },
  {
   "cell_type": "markdown",
   "metadata": {},
   "source": [
    "**tf.to_double(x, name='ToDouble')**\n",
    "\n",
    "将张量转换为float64类型\n",
    ">**Args:**\n",
    "- x: 张量\n",
    "- name: 操作的名称（可选）。\n",
    "\n",
    ">**Returns:**\n",
    "- 将张量转化为float64类型\n",
    "\n",
    ">**Raises:**\n",
    "- TypeError: If x cannpt be cast to the float64."
   ]
  },
  {
   "cell_type": "markdown",
   "metadata": {},
   "source": [
    "**tf.to_float(x, name='ToFloat')**\n",
    "\n",
    "将张量转换为float32类型\n",
    ">**Args:**\n",
    "- x: 张量\n",
    "- name: 操作的名称（可选）。\n",
    "\n",
    ">**Returns:**\n",
    "- 将张量转化为float32类型\n",
    "\n",
    ">**Raises:**\n",
    "- TypeError: If x cannpt be cast to the float32."
   ]
  },
  {
   "cell_type": "markdown",
   "metadata": {},
   "source": [
    "**tf.to_bfloat16(x, name='ToBFloat16')**\n",
    "\n",
    "将张量转换为bfloat16类型\n",
    ">**Args:**\n",
    "- x: 张量\n",
    "- name: 操作的名称（可选）。\n",
    "\n",
    ">**Returns:**\n",
    "- 将张量转化为bfloat16类型\n",
    "\n",
    ">**Raises:**\n",
    "- TypeError: If x cannpt be cast to the bfloat16."
   ]
  },
  {
   "cell_type": "markdown",
   "metadata": {},
   "source": [
    "**tf.to_int32(x, name='ToInt32')**\n",
    "\n",
    "将张量转换为int32类型\n",
    ">**Args:**\n",
    "- x: 张量\n",
    "- name: 操作的名称（可选）。\n",
    "\n",
    ">**Returns:**\n",
    "- 将张量转化为int32类型\n",
    "\n",
    ">**Raises:**\n",
    "- TypeError: If x cannpt be cast to the int32."
   ]
  },
  {
   "cell_type": "markdown",
   "metadata": {},
   "source": [
    "**tf.to_int64(x, name='ToInt64')**\n",
    "\n",
    "将张量转换为int64类型\n",
    ">**Args:**\n",
    "- x: 张量\n",
    "- name: 操作的名称（可选）。\n",
    "\n",
    ">**Returns:**\n",
    "- 将张量转化为int64类型\n",
    "\n",
    ">**Raises:**\n",
    "- TypeError: If x cannpt be cast to the int64."
   ]
  },
  {
   "cell_type": "markdown",
   "metadata": {},
   "source": [
    "**tf.cast(x, dtype, name=None)**\n",
    "\n",
    "将tensor转换为新的类型。操作将x（Tensor）或x.values（SparseTensor）转换为dtype。\n",
    ">**Args:**\n",
    "- x: Tensor 或 SparseTensor\n",
    "- dtype: 目标类型\n",
    "- name: 操作的名称（可选）\n",
    "\n",
    ">**Returns:**\n",
    "- 返回与x形状相同的Tensor 或 SparseTensor\n",
    "\n",
    ">**Raises:**\n",
    "- TypeError: If x cannot be cast to the dtype."
   ]
  },
  {
   "cell_type": "code",
   "execution_count": 7,
   "metadata": {},
   "outputs": [
    {
     "name": "stdout",
     "output_type": "stream",
     "text": [
      "[1 2]\n"
     ]
    }
   ],
   "source": [
    "import tensorflow as tf\n",
    "\n",
    "temp = [1.8, 2.2]\n",
    "with tf.Session() as sess:\n",
    "    init_op = tf.global_variables_initializer()\n",
    "    sess.run(init_op)\n",
    "    print(sess.run(tf.cast(temp, tf.int32)))"
   ]
  },
  {
   "cell_type": "markdown",
   "metadata": {},
   "source": [
    "## 1.2 Shapes and Shaping\n",
    "\n",
    "TensorFlow提供了几个操作，我们可以使用这些操作来确定张量的形状并更改张量的形状。"
   ]
  },
  {
   "cell_type": "markdown",
   "metadata": {},
   "source": [
    "**tf.shape(int, name=None)**\n",
    "\n",
    "返回张量的形状；此操作返回表示输入形状的1-D整数张量。\n",
    "\n",
    ">**Args:**\n",
    "- input: Tensor\n",
    "- name: 操作的名称（可选）\n",
    "\n",
    ">**Returns:**\n",
    "- int32类型的张量"
   ]
  },
  {
   "cell_type": "code",
   "execution_count": 9,
   "metadata": {},
   "outputs": [
    {
     "name": "stdout",
     "output_type": "stream",
     "text": [
      "[2 2]\n"
     ]
    }
   ],
   "source": [
    "import tensorflow as tf\n",
    "\n",
    "temp = [[1.8, 2.2],[1.8, 2.2]]\n",
    "with tf.Session() as sess:\n",
    "    init_op = tf.global_variables_initializer()\n",
    "    sess.run(init_op)\n",
    "    print(sess.run(tf.shape(temp)))"
   ]
  },
  {
   "cell_type": "markdown",
   "metadata": {},
   "source": [
    "**tf.size(input, name=None)**\n",
    "\n",
    "返回张量的大小；该操作返回一个表示输入元素的一个整数。\n",
    "\n",
    ">**Args:**\n",
    "- input: Tensor\n",
    "- name: 操作的名称（可选）\n",
    "\n",
    ">**Returns:**\n",
    "- int32类型的张量"
   ]
  },
  {
   "cell_type": "code",
   "execution_count": 14,
   "metadata": {},
   "outputs": [
    {
     "name": "stdout",
     "output_type": "stream",
     "text": [
      "[2 2 3]\n",
      "12\n"
     ]
    }
   ],
   "source": [
    "import tensorflow as tf\n",
    "\n",
    "temp = [[[1, 1, 1], [2, 2, 2]], [[3, 3, 3], [4, 4, 4]]]\n",
    "with tf.Session() as sess:\n",
    "    init_op = tf.global_variables_initializer()\n",
    "    sess.run(init_op)\n",
    "    print(sess.run(tf.shape(temp)))\n",
    "    print(sess.run(tf.size(temp)))"
   ]
  },
  {
   "cell_type": "markdown",
   "metadata": {},
   "source": [
    "**tf.rank(input, name=None)**\n",
    "\n",
    "返回张量的等级；该操作返回表示输入等级的整数。\n",
    "\n",
    "**注意：**张量的等级与矩阵的等级不同。 张量的等级是唯一地选择张量的每个元素所需的索引的数量。 等级也称为“顺序”，“程度”或“ndims”。\n",
    "\n",
    ">**Args:**\n",
    "- input: Tensor\n",
    "- name: 操作的名称（可选）\n",
    "\n",
    ">**Returns:**\n",
    "- int32类型的张量"
   ]
  },
  {
   "cell_type": "code",
   "execution_count": 20,
   "metadata": {},
   "outputs": [
    {
     "name": "stdout",
     "output_type": "stream",
     "text": [
      "temp.shape =  [4 3]\n",
      "temp.size =  12\n",
      "temp.rank =  2\n"
     ]
    }
   ],
   "source": [
    "import tensorflow as tf\n",
    "\n",
    "temp = [[1, 1, 1], [2, 2, 2], [3, 3, 3], [4, 4, 4]]\n",
    "with tf.Session() as sess:\n",
    "    init_op = tf.global_variables_initializer()\n",
    "    sess.run(init_op)\n",
    "    print(\"temp.shape = \",sess.run(tf.shape(temp)))\n",
    "    print(\"temp.size = \",sess.run(tf.size(temp)))\n",
    "    print(\"temp.rank = \",sess.run(tf.rank(temp)))"
   ]
  },
  {
   "cell_type": "markdown",
   "metadata": {},
   "source": [
    "**tf.reshape(tensor, shape, name=None)**\n",
    "\n",
    "重塑张量。给定张量，此操作返回张量，该张量具有与给定张量相同的值。如果 shape = \\[1\\]，则张量被展平并且操作输出具有张量的所有元素的1维张量。如果shape是1维或更高维，则操作返回具有给定张量值的重塑张量。 在这种情况下，重构张量元素数必须与给定张量中的元素数相同。\n",
    "\n",
    ">**Args:**\n",
    "- tensor: 输入张量\n",
    "- shape: int32类型的张量。 定义输出张量的形状。\n",
    "- name: 操作的名称（可选）\n",
    "\n",
    ">**Returns:**\n",
    "- 重塑张量"
   ]
  },
  {
   "cell_type": "code",
   "execution_count": 23,
   "metadata": {},
   "outputs": [
    {
     "name": "stdout",
     "output_type": "stream",
     "text": [
      "t1.reshape =  [[1 2 3]\n",
      " [4 5 6]\n",
      " [7 8 9]]\n",
      "t2.reshape =  [[1 1 2 2]\n",
      " [3 3 4 4]]\n",
      "t3.reshape =  [1 1 1 2 2 2 3 3 3 4 4 4 5 5 5 6 6 6]\n"
     ]
    }
   ],
   "source": [
    "import tensorflow as tf\n",
    "\n",
    "t1 = [1, 2, 3, 4, 5, 6, 7, 8, 9]\n",
    "t2 = [[[1, 1], [2, 2]],\n",
    "      [[3, 3], [4, 4]]]\n",
    "t3 = [[[1, 1, 1],\n",
    "       [2, 2, 2]],\n",
    "      [[3, 3, 3],\n",
    "       [4, 4, 4]],\n",
    "      [[5, 5, 5],\n",
    "      [6, 6, 6]]]\n",
    "\n",
    "\n",
    "\n",
    "with tf.Session() as sess:\n",
    "    init_op = tf.global_variables_initializer()\n",
    "    sess.run(init_op)\n",
    "    print(\"t1.reshape = \",sess.run(tf.reshape(t1, [3, 3])))\n",
    "    print(\"t2.reshape = \",sess.run(tf.reshape(t2, [2, 4])))\n",
    "    print(\"t3.reshape = \",sess.run(tf.reshape(t3, [-1])))\n",
    "    "
   ]
  },
  {
   "cell_type": "markdown",
   "metadata": {},
   "source": [
    "**tf.squeeze(input, squeeze_dims=None, name=None)**\n",
    "\n",
    "从张量的形状中移除维度为1的；给定输入张量并删除所有1维的。可用squeeze_dims删除指定维度为1维的。\n",
    "\n",
    ">**Args:**\n",
    "- input: 输入张量\n",
    "- squeeze_dims: 可选整数列表，默认为[]。如果指定，则仅删除列出的尺寸。维度索引从0开始，删除不为1的维度是错误的。\n",
    "- name: 操作的名称（可选）\n",
    "\n",
    ">**Returns:**\n",
    "- 一个与输入具有相同类型的张量；包含与输入相同的数据，但删除了一个或多个大小为1的维度。"
   ]
  },
  {
   "cell_type": "markdown",
   "metadata": {},
   "source": [
    "**tf.expand_dims(input, dim, name=None)**\n",
    "\n",
    "插入1维到张量的形状中；此操作对输入张量形状的维度在索引dim出插入1维。dim从0开始，如果dim为负数，则从结尾向后计数。如果要将批量维度添加到单个元素，这个方法比较有用。例如：有一个图像（高度，宽度，通道），可以使用expend_dim(image,0)批量制作为（1,高度，宽度，通道）的形状。\n",
    "\n",
    ">**Args:**\n",
    "- input: 张量\n",
    "- dim: int32的张量，指定用于展开输入形状的维度索引。\n",
    "- name: 操作的名称（可选）\n",
    "\n",
    ">**Returns:**\n",
    "- 返回一个张量，与输入具有相同的类型。包含与输入相同的数据，但形状具有添加维度为1的附加维度。"
   ]
  },
  {
   "cell_type": "markdown",
   "metadata": {},
   "source": [
    "## 1.3 Slicing and Joining\n",
    "\n",
    "TensorFlow提供了几种操作来切片或提取张量的各个部分，或将多个张量连接在一起。"
   ]
  },
  {
   "cell_type": "markdown",
   "metadata": {},
   "source": [
    "**tf.slice(input_, begin, size, name=None)**\n",
    "\n",
    "从张量中提取切片；此操作从指定开始的位置切取size大小的切片；切片的大小表示张量的形状，其中size\\[i\\]是要切片的输入的第i维的元素数。切片的起始位置(begin)表示输入的每个维度中的偏移。也就是，begin\\[i\\]是要切片的输入的第i维度的偏移量。\n",
    "\n",
    "begin 是从0开始，如果size\\[i\\] = -1，则维度 i 中的所剩余元素都包含在切片中，也就是：\n",
    ">size\\[i\\] = input.dim_size(i) - begin\\[i\\]\n",
    "\n",
    "此操作要求：\n",
    ">0 <= begin\\[i\\] <= begin\\[i\\] + size\\[i\\] <= Di for i in \\[0, n\\]\n",
    "\n",
    ">**Args:**\n",
    "- input_: 张量\n",
    "- begin: int32 或 int64的张量\n",
    "- size: int32 或 int64的张量\n",
    "- name: 操作的名称（可选）\n",
    "\n",
    ">**Returns:**\n",
    "- 返回与输入相同的Tensor类型"
   ]
  },
  {
   "cell_type": "code",
   "execution_count": 68,
   "metadata": {},
   "outputs": [
    {
     "name": "stdout",
     "output_type": "stream",
     "text": [
      "t.slice =  [[[1]]]\n",
      "t.slice =  [[[1]\n",
      "  [4]]]\n",
      "t.slice =  [[[ 1  2]\n",
      "  [ 4  5]]\n",
      "\n",
      " [[ 7  8]\n",
      "  [11 12]]\n",
      "\n",
      " [[14 15]\n",
      "  [17 18]]]\n",
      "t.slice =  [[[7]]]\n",
      "t.slice =  [[[ 7]\n",
      "  [11]]]\n",
      "t.slice =  [[[ 7  8]\n",
      "  [11 12]]\n",
      "\n",
      " [[14 15]\n",
      "  [17 18]]]\n",
      "t.slice =  [[[14]]]\n",
      "t.slice =  [[[14 15]\n",
      "  [17 18]]]\n",
      "t.slice =  [[[14 15 16]\n",
      "  [17 18 19]]]\n"
     ]
    }
   ],
   "source": [
    "import tensorflow as tf\n",
    "\n",
    "t = [[[1, 2, 3],[4, 5, 6]],\n",
    "     [[7, 8, 9],[11, 12, 13]],\n",
    "     [[14, 15, 16],[17, 18, 19]]]\n",
    "\n",
    "with tf.Session() as sess:\n",
    "    init_op = tf.global_variables_initializer()\n",
    "    sess.run(init_op)\n",
    "    # tf.slice(t, [begin[0], begin[0], begin[0]], [size[0], size[1], size[2]])\n",
    "    print(\"t.slice = \",sess.run(tf.slice(t, [0, 0, 0], [1, 1, 1])))\n",
    "    print(\"t.slice = \",sess.run(tf.slice(t, [0, 0, 0], [1, 2, 1])))\n",
    "    print(\"t.slice = \",sess.run(tf.slice(t, [0, 0, 0], [3, 2, 2])))\n",
    "    \n",
    "    print(\"t.slice = \",sess.run(tf.slice(t, [1, 0, 0], [1, 1, 1])))\n",
    "    print(\"t.slice = \",sess.run(tf.slice(t, [1, 0, 0], [1, 2, 1])))\n",
    "    print(\"t.slice = \",sess.run(tf.slice(t, [1, 0, 0], [2, 2, 2])))\n",
    "    \n",
    "    print(\"t.slice = \",sess.run(tf.slice(t, [2, 0, 0], [1, 1, 1])))\n",
    "    print(\"t.slice = \",sess.run(tf.slice(t, [2, 0, 0], [1, 2, 2])))\n",
    "    print(\"t.slice = \",sess.run(tf.slice(t, [2, 0, 0], [1, 2, 3])))\n",
    "    "
   ]
  },
  {
   "cell_type": "markdown",
   "metadata": {},
   "source": [
    "**tf.split(split_dim, num_split, value, name='split')**\n",
    "\n",
    "沿着一个维度将张量分割为 num_split 个张量，对value沿着split_dim产生num_split个更小的张量， 要求value.shape\\[split_dim\\]能均匀分成num_split个。\n",
    ">\\# 'value' is a tensor with shape \\[5, 30\\]<br/>\n",
    "\\# Split 'value' into 3 tensors along dimension 1<br/>\n",
    " split0, split1, split2 = tf.split(1, 3, value)<br/>\n",
    " tf.shape(split0) ==> \\[5, 10\\]\n",
    "\n",
    ">**Args:**\n",
    "- split_dim: A0-D int32张量，要拆分的维度，必须在\\[0, rank(value)\\]范围\n",
    "- num_split:  A0-D int32张量，拆分方式的的数量\n",
    "- num_split: 要拆分的张量\n",
    "- name='split': 操作的名称（可选）\n",
    "\n",
    ">**Returns:**\n",
    "- 返回num_split个张量"
   ]
  },
  {
   "cell_type": "markdown",
   "metadata": {},
   "source": [
    "**tf.tile(input, multiples, name=None)**\n",
    "\n",
    "通过平铺给定的张量来构造张量；这种操作通过复制输入mutiles次创造新的张量。输出张量的第i维具有input.dims（i）* multiples\\[i\\]元素，并且输入值沿着第i维度被复制\\[i\\]倍，例如：\\[a b c d\\] * \\[2\\] = \\[a b c d a b c d\\]\n",
    "\n",
    ">**Args:**\n",
    "- input: 张量.\n",
    "- multiples: int32类型的张量. 1维. 长度等于input的维度\n",
    "- name: 操作的名称（可选）\n",
    "\n",
    ">**Returns:**\n",
    "- 张量"
   ]
  },
  {
   "cell_type": "markdown",
   "metadata": {},
   "source": [
    "**tf.pad(input, paddings, name=None)**\n",
    "\n",
    "用0填充张量；此操作根据我们指定的填充用0填入input。pading是一个形状为\\[Dn, 2\\]的整形张量，其中n是输入维度。对于input的每个维度D，填充\\[D, 0\\]表示该维度中的输入内容之前添加多少个0，并且填充\\[D, 1\\]表示在该维度中的输入内容之后添加多少个0.输出的每个维度D的填充大小为：\n",
    ">paddings(D, 0) + input.dim_size(D) + paddings(D, 1)\n",
    "\n",
    ">**Args:**\n",
    "- input: 张量.\n",
    "- paddings: int32张量.\n",
    "- name: 操作的名称（可选）\n",
    "\n",
    ">**Returns:**\n",
    "- 返回张量，与输入具有相同的类型。"
   ]
  },
  {
   "cell_type": "code",
   "execution_count": 4,
   "metadata": {},
   "outputs": [
    {
     "name": "stdout",
     "output_type": "stream",
     "text": [
      "[[0. 0. 0. 0. 0. 0. 0.]\n",
      " [0. 0. 0. 0. 0. 0. 0.]\n",
      " [0. 0. 0. 1. 1. 0. 0.]\n",
      " [0. 0. 0. 2. 2. 0. 0.]\n",
      " [0. 0. 0. 0. 0. 0. 0.]\n",
      " [0. 0. 0. 0. 0. 0. 0.]]\n"
     ]
    }
   ],
   "source": [
    "import tensorflow as tf\n",
    "\n",
    "t = [[1.0, 1.0], [2.0, 2.0]]\n",
    "i_paddings = [[2,2],[3,2]]\n",
    "\n",
    "i_pads = tf.pad(t,i_paddings)\n",
    "\n",
    "with tf.Session() as sess:\n",
    "    init_op = tf.global_variables_initializer()\n",
    "    sess.run(init_op)\n",
    "    # tf.slice(t, [begin[0], begin[0], begin[0]], [size[0], size[1], size[2]])\n",
    "    print(sess.run(i_pads))"
   ]
  },
  {
   "cell_type": "markdown",
   "metadata": {},
   "source": [
    "**concat(values, axis, name='concat')**\n",
    "\n",
    "沿着一个维度链接张量；沿着维度axis连接张量值列表。如果values\\[i\\].shape=\\[D0,D1,...,Daxis(i),...Dn\\]，连接结果的形状为：\n",
    ">\\[D0,D1,..., Raxis,...Dn\\]\n",
    "其中，Raxis = sum(Daxis(i))\n",
    "\n",
    "也就是说，来自输入张量的数据沿着`axis`维度连接。输入张量的维数必须匹配，除`axis`之外的所有维度必须相等。\n",
    "\n",
    ">**Args:**\n",
    "- values: A list of Tensor objects or a single Tensor.\n",
    "- axis: 0-D int32 Tensor. 要连接的维度.\n",
    "- name: 操作的名称（可选）\n",
    "\n",
    ">**Returns:**\n",
    "- 由输入张量连接产生的“Tensor”。"
   ]
  },
  {
   "cell_type": "code",
   "execution_count": 18,
   "metadata": {},
   "outputs": [
    {
     "name": "stdout",
     "output_type": "stream",
     "text": [
      "[2 6]\n"
     ]
    }
   ],
   "source": [
    "import tensorflow as tf\n",
    "\n",
    "t1 = [[1, 2, 3], [4, 5, 6]]\n",
    "t2 = [[7, 8, 9], [10, 11, 12]]\n",
    "\n",
    "t3 = tf.concat([t1, t2],1)\n",
    "# t4 = tf.concat(1, [t1, t2])\n",
    "\n",
    "with tf.Session() as sess:\n",
    "    init_op = tf.global_variables_initializer()\n",
    "    sess.run(init_op)\n",
    "    print(sess.run(tf.shape(t3)))"
   ]
  },
  {
   "cell_type": "markdown",
   "metadata": {},
   "source": [
    "**reverse_sequence(input, seq_lengths, seq_axis=None, batch_axis=None, name=None, seq_dim=None, batch_dim=None)**\n",
    "\n",
    "反转可变长度切片。这个操作首先沿着维度`batch_axis`切`input`，并且对于每个切片`i`，沿着维度`seq_axis`反转第一个`seq_lengths [i]`元素。  `seq_lengths`的元素必须服从`seq_lengths [i] <= input.dims [seq_dim]`，而`seq_lengths`必须是长度为`input.dims [batch_dim]`的向量。然后，通过输入切片“i”给出沿维度“batch_axis”的输出切片“i”，其中第一个“seq_lengths\\[i\\]”切片沿着维度“seq_axis”被反转。\n",
    "\n",
    ">**Args:**\n",
    "- input: 一个`Tensor`。 反转的输入。\n",
    "- seq_lengths: 一个`Tensor`。 必须是以下类型之一：`int32`，`int64`.1-D，长度为`input.dims（batch_dim）`和`max（seq_lengths）<= input.dims（seq_dim）`\n",
    "- seq_axis: 一个`int`。 尺寸部分颠倒。\n",
    "- batch_axis: 一个可选的`int`。 默认为“0”。执行反转的尺寸。\n",
    "- name:操作的名称（可选）。\n",
    "    \n",
    ">**Returns:**\n",
    "- 一个`Tensor`。 与`input`具有相同的类型。\n"
   ]
  },
  {
   "cell_type": "markdown",
   "metadata": {},
   "source": [
    "**tf.reverse_sequence(input, seq_lengths, seq_dim, name=None)**\n",
    "\n",
    "\n",
    "\n",
    ">**Args:**\n",
    "- input: A Tensor. The input to reverse.\n",
    "- seq_lengths: A Tensor of type int64. 1-D with length input.dims(0) and max(seq_lengths) < input.dims(seq_dim)\n",
    "- seq_dim: An int. The dimension which is partially reversed.\n",
    "- name: A name for the operation (optional).\n",
    "\n",
    ">**Returns:**\n",
    "- "
   ]
  },
  {
   "cell_type": "markdown",
   "metadata": {},
   "source": [
    "**transpose(a, perm=None, name='transpose', conjugate=False)**\n",
    "\n",
    "转置`a`。 根据`perm`置换尺寸。返回的张量的维度i将对应于输入维度`perm [i]`。 如果没有给出`perm`，则将其设置为（n-1 ... 0），其中n是输入张量的等级。 因此，默认情况下，此操作在2-D输入张量上执行常规矩阵转置。 如果共轭是真的并且'a.dtype`是`complex64`或`complex128`那么'a`的值被共轭和转置。\n",
    "\n",
    ">**Args:**\n",
    "- a: 一个张量.\n",
    "- perm: a的维数的排列。\n",
    "- name:  A name for the operation (optional).\n",
    "- conjugate: 可选的布尔。 将其设置为“True”在数学上等同于tf.conj（tf.transpose（input））。\n",
    "\n",
    ">**Returns:**\n",
    "- 转置的“Tensor”。"
   ]
  }
 ],
 "metadata": {
  "kernelspec": {
   "display_name": "Python 3",
   "language": "python",
   "name": "python3"
  },
  "language_info": {
   "codemirror_mode": {
    "name": "ipython",
    "version": 3
   },
   "file_extension": ".py",
   "mimetype": "text/x-python",
   "name": "python",
   "nbconvert_exporter": "python",
   "pygments_lexer": "ipython3",
   "version": "3.6.5"
  }
 },
 "nbformat": 4,
 "nbformat_minor": 2
}
